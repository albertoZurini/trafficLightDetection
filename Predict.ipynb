{
 "cells": [
  {
   "cell_type": "code",
   "execution_count": null,
   "metadata": {
    "scrolled": false
   },
   "outputs": [],
   "source": [
    "import keras\n",
    "from keras.models import Sequential\n",
    "from keras.layers import Dense, Dropout, Flatten\n",
    "from keras.layers import Conv2D, MaxPooling2D\n",
    "from keras import backend as K\n",
    "from keras.models import model_from_json\n",
    "import os\n",
    "import cv2"
   ]
  },
  {
   "cell_type": "code",
   "execution_count": null,
   "metadata": {},
   "outputs": [],
   "source": [
    "json_file = open('model.json', 'r')\n",
    "loaded_model_json = json_file.read()\n",
    "json_file.close()\n",
    "loaded_model = model_from_json(loaded_model_json)\n",
    "\n",
    "# Load weights into new model\n",
    "loaded_model.load_weights(\"weights.h5\")\n",
    "print(\"Loaded model from disk\")\n",
    "\n",
    "# Compile the model\n",
    "loaded_model.compile(loss=keras.losses.categorical_crossentropy,\n",
    "              optimizer=keras.optimizers.Adadelta(),\n",
    "              metrics=['accuracy'])"
   ]
  },
  {
   "cell_type": "code",
   "execution_count": null,
   "metadata": {
    "collapsed": true
   },
   "outputs": [],
   "source": [
    "def getStasFromImage(img):\n",
    "  # Adjuse channel position basing on the backend\n",
    "  # Every CNN layer has to know where the number of channels is\n",
    "  # It can be channel_first or channel_last\n",
    "  width, height = 72, 98\n",
    "  img = cv2.resize(img, (width, height))\n",
    "  #img = img.astype('float32')\n",
    "  #img /= 255\n",
    "  if K.image_data_format() == 'channels_first':\n",
    "    img = img.reshape(1, 3, height, width)\n",
    "  else:\n",
    "    img = img.reshape(1, height, width, 3)\n",
    "  \n",
    "  #img = img.astype('float32')\n",
    "  #img /= 255\n",
    "\n",
    "  return loaded_model.predict(img)"
   ]
  },
  {
   "cell_type": "code",
   "execution_count": null,
   "metadata": {
    "collapsed": true
   },
   "outputs": [],
   "source": [
    "# Converts the predictions array into a number\n",
    "def catToNum(arr):\n",
    "  high = 0\n",
    "  highIndex = 0 # The number\n",
    "  i = 0\n",
    "  for num in arr[0]:\n",
    "      if num > high:\n",
    "          high = num\n",
    "          highIndex = i\n",
    "      i += 1\n",
    "  return highIndex"
   ]
  },
  {
   "cell_type": "code",
   "execution_count": null,
   "metadata": {
    "collapsed": true
   },
   "outputs": [],
   "source": [
    "getStasFromImageNumber(cv2.imread('newData/0.jpg', 1))"
   ]
  }
 ],
 "metadata": {
  "kernelspec": {
   "display_name": "Python (objv2)",
   "language": "python",
   "name": "objv2"
  },
  "language_info": {
   "codemirror_mode": {
    "name": "ipython",
    "version": 3
   },
   "file_extension": ".py",
   "mimetype": "text/x-python",
   "name": "python",
   "nbconvert_exporter": "python",
   "pygments_lexer": "ipython3",
   "version": "3.6.4"
  }
 },
 "nbformat": 4,
 "nbformat_minor": 2
}
